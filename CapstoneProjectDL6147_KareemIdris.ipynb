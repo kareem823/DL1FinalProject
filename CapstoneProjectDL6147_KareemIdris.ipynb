{
  "nbformat": 4,
  "nbformat_minor": 0,
  "metadata": {
    "colab": {
      "provenance": [],
      "collapsed_sections": [
        "H1QDbOZh88LJ",
        "r1wqKt7R9a7H"
      ],
      "gpuType": "T4",
      "authorship_tag": "ABX9TyOLE28U7XJFKiySISFEB2zc",
      "include_colab_link": true
    },
    "kernelspec": {
      "name": "python3",
      "display_name": "Python 3"
    },
    "language_info": {
      "name": "python"
    },
    "accelerator": "GPU"
  },
  "cells": [
    {
      "cell_type": "markdown",
      "metadata": {
        "id": "view-in-github",
        "colab_type": "text"
      },
      "source": [
        "<a href=\"https://colab.research.google.com/github/kareem823/DL1FinalProject/blob/main/CapstoneProjectDL6147_KareemIdris.ipynb\" target=\"_parent\"><img src=\"https://colab.research.google.com/assets/colab-badge.svg\" alt=\"Open In Colab\"/></a>"
      ]
    },
    {
      "cell_type": "markdown",
      "source": [
        "#Kareem Idris, S#: 0881393, Due: Nov 28"
      ],
      "metadata": {
        "id": "ys0V3OAM8km7"
      }
    },
    {
      "cell_type": "markdown",
      "source": [
        "\n",
        "Due Date (Due 08/01/2024)\n",
        "Your grades are divided as follows:\n",
        "\n",
        "- 5% on your project proposal (one page contains, title, project description, why it is it good? how do you think you will do it? what data will you use? and how to will you evaluate your system performance) (Due 10/17/2024)\n",
        "\n",
        "- Running project (20%)\n",
        "\n",
        "- 15% report & presentation & GitHub project page\n",
        "\n",
        "How to Submit your Assignment\n",
        "Present your capstone project (including code)"
      ],
      "metadata": {
        "id": "U6xyLNCm9A97"
      }
    },
    {
      "cell_type": "markdown",
      "source": [
        "#Assignment Instructions\n",
        "\n",
        "1. Dataset Selection:\n",
        "\n",
        "\n",
        "Choose a suitable image dataset for your project. You can consider any of the well-known datasets here Datasets — Torchvision 0.17 documentation (pytorch.org) for simplicity.\n",
        "\n",
        "Ensure that the dataset contains a reasonable number of classes and a sufficient number of images per class.\n",
        "\n",
        "If the dataset has very large number of images, you can use a subset (e.g., 1000 images per class if number of classes are 10 or less)\n",
        "\n",
        "If the dataset has more than 20 classes, you can use a subset of the classes (e.g., only use 10 classes)\n",
        "\n",
        "\n"
      ],
      "metadata": {
        "id": "_OIbXwQ48rbc"
      }
    },
    {
      "cell_type": "code",
      "source": [
        "# import the necessary packages\n",
        "import torch\n",
        "import os\n",
        "from torch.utils.data import Dataset\n",
        "import cv2\n",
        "from torch.nn import ConvTranspose2d\n",
        "from torch.nn import Conv2d\n",
        "from torch.nn import MaxPool2d\n",
        "from torch.nn import Module\n",
        "from torch.nn import ModuleList\n",
        "from torch.nn import ReLU\n",
        "from torchvision.transforms import CenterCrop\n",
        "from torch.nn import functional as F\n",
        "import numpy as np\n",
        "import matplotlib.pyplot as plt\n",
        "import sklearn as skl\n",
        "import glob\n",
        "from mpl_toolkits.axes_grid1 import ImageGrid\n",
        "from google.colab import files\n",
        "import zipfile\n"
      ],
      "metadata": {
        "id": "ardGuxe1aYbo"
      },
      "execution_count": 25,
      "outputs": []
    },
    {
      "cell_type": "code",
      "source": [
        "from google.colab import drive\n",
        "#loading google drive access for my project\n",
        "drive.mount('/content/drive')\n"
      ],
      "metadata": {
        "colab": {
          "base_uri": "https://localhost:8080/"
        },
        "id": "HliqAkkvLhlc",
        "outputId": "68c77a16-9b6f-4845-9261-f1113458b1ee"
      },
      "execution_count": 26,
      "outputs": [
        {
          "output_type": "stream",
          "name": "stdout",
          "text": [
            "Drive already mounted at /content/drive; to attempt to forcibly remount, call drive.mount(\"/content/drive\", force_remount=True).\n"
          ]
        }
      ]
    },
    {
      "cell_type": "code",
      "source": [
        "\n",
        "#get the path of my ziped images folder\n",
        "path = '/content/drive/MyDrive/1647DeepLearning/1647-CapstoneProject/capstoneproject1/hipimages1.zip'\n",
        "\n",
        "#images into project\n",
        "with zipfile.ZipFile(path, 'r') as zip_ref:\n",
        "    zip_ref.extractall('/content/data')  # Extract to a folder\n"
      ],
      "metadata": {
        "id": "zTDvNtG3JEh5"
      },
      "execution_count": 27,
      "outputs": []
    },
    {
      "cell_type": "markdown",
      "source": [
        "#2. Data Preprocessing:\n",
        "\n",
        "\n",
        "Perform data preprocessing steps such as resizing images, normalizing pixel values, and splitting the dataset into training, validation, and test sets.\n",
        "Apply data augmentation techniques to increase the diversity of the training data."
      ],
      "metadata": {
        "id": "g0CdNgJW9Ire"
      }
    },
    {
      "cell_type": "code",
      "source": [
        "\n",
        "from torchvision import datasets, transforms\n",
        "from torch.utils.data import DataLoader"
      ],
      "metadata": {
        "id": "6wcTJZlmHXMd"
      },
      "execution_count": 28,
      "outputs": []
    },
    {
      "cell_type": "code",
      "source": [
        "\n",
        "# Define transformations\n",
        "train_transforms = transforms.Compose([\n",
        "    transforms.Resize((224, 224)),  # Resize images to 224x224\n",
        "    transforms.RandomHorizontalFlip(),  # Random horizontal flip for augmentation\n",
        "    transforms.RandomRotation(10),  # Random rotation for augmentation\n",
        "    transforms.ToTensor(),  # Convert images to tensors\n",
        "    transforms.Normalize(mean=[0.5], std=[0.5])  # Normalize pixel values\n",
        "])\n",
        "\n",
        "val_test_transforms = transforms.Compose([\n",
        "    transforms.Resize((224, 224)),  # Resize images to 224x224\n",
        "    transforms.ToTensor(),  # Convert images to tensors\n",
        "    transforms.Normalize(mean=[0.5], std=[0.5])  # Normalize pixel values\n",
        "])\n"
      ],
      "metadata": {
        "id": "x9oB5m9uNTxW"
      },
      "execution_count": 29,
      "outputs": []
    },
    {
      "cell_type": "code",
      "source": [
        "from torchvision.datasets import ImageFolder\n"
      ],
      "metadata": {
        "id": "iNqUvhhmOlIP"
      },
      "execution_count": 30,
      "outputs": []
    },
    {
      "cell_type": "code",
      "source": [
        "\n",
        "# Define paths to datasets\n",
        "data_dir = '/content/data/Data'\n",
        "\n",
        "# Load datasets with respective transformations\n",
        "train_dataset = ImageFolder(root=data_dir, transform=train_transforms)"
      ],
      "metadata": {
        "id": "rLK5VqUoOhUI"
      },
      "execution_count": 31,
      "outputs": []
    },
    {
      "cell_type": "code",
      "source": [
        "from torch.utils.data import random_split\n",
        "\n",
        "# Set the split ratios\n",
        "train_ratio = 0.7\n",
        "val_ratio = 0.2\n",
        "test_ratio = 0.1\n",
        "\n",
        "# Calculate lengths\n",
        "total_size = len(train_dataset)\n",
        "train_size = int(total_size * train_ratio)\n",
        "val_size = int(total_size * val_ratio)\n",
        "test_size = total_size - train_size - val_size\n",
        "\n",
        "# Split the dataset\n",
        "train_dataset, val_dataset, test_dataset = random_split(train_dataset, [train_size, val_size, test_size])\n"
      ],
      "metadata": {
        "id": "wOH6PgELOm-0"
      },
      "execution_count": 32,
      "outputs": []
    },
    {
      "cell_type": "code",
      "source": [
        "from torch.utils.data import DataLoader\n",
        "\n",
        "# Create data loaders\n",
        "train_loader = DataLoader(train_dataset, batch_size=32, shuffle=True)\n",
        "val_loader = DataLoader(val_dataset, batch_size=32, shuffle=False)\n",
        "test_loader = DataLoader(test_dataset, batch_size=32, shuffle=False)\n"
      ],
      "metadata": {
        "id": "xmTW-8NOOtrx"
      },
      "execution_count": 33,
      "outputs": []
    },
    {
      "cell_type": "code",
      "source": [
        "import matplotlib.pyplot as plt\n",
        "import numpy as np\n",
        "import torchvision # Import torchvision\n",
        "\n",
        "\n",
        "# Function to display images\n",
        "def imshow(img):\n",
        "    img = img / 2 + 0.5  # Unnormalize\n",
        "    npimg = img.numpy()\n",
        "    plt.imshow(np.transpose(npimg, (1, 2, 0)))\n",
        "    plt.show()\n",
        "\n",
        "# Display a batch of training images\n",
        "dataiter = iter(train_loader)\n",
        "images, labels = next(dataiter)\n",
        "\n",
        "# Show images\n",
        "imshow(torchvision.utils.make_grid(images))\n"
      ],
      "metadata": {
        "colab": {
          "base_uri": "https://localhost:8080/",
          "height": 314
        },
        "id": "GC_18_G8OwMV",
        "outputId": "b3e85a5c-e7ee-4ba4-964a-0140b6b6a546"
      },
      "execution_count": 34,
      "outputs": [
        {
          "output_type": "display_data",
          "data": {
            "text/plain": [
              "<Figure size 640x480 with 1 Axes>"
            ],
            "image/png": "[encoded data removed]"
          },
          "metadata": {}
        }
      ]
    },
    {
      "cell_type": "markdown",
      "source": [
        "\n",
        "3. Model Selection and Architecture:\n",
        "\n",
        "\n",
        "Select an appropriate deep learning architecture for image classification. You can start with a convolutional neural network (CNN).\n",
        "\n",
        "Define the architecture of your model, including the number of layers, activation functions, and any regularization techniques.\n",
        "\n"
      ],
      "metadata": {
        "id": "odMsOvLL86ba"
      }
    },
    {
      "cell_type": "code",
      "source": [
        "from torchvision import models\n",
        "\n",
        "# Load a pre-trained model (VGG16 as an example)\n",
        "model = models.vgg16(pretrained=True)\n",
        "\n",
        "# Print the architecture of the model\n",
        "print(model)\n"
      ],
      "metadata": {
        "id": "QYxjoiqi877p",
        "colab": {
          "base_uri": "https://localhost:8080/"
        },
        "outputId": "db008c69-cbf3-422d-c571-3f0f05aae03d"
      },
      "execution_count": 35,
      "outputs": [
        {
          "output_type": "stream",
          "name": "stdout",
          "text": [
            "VGG(\n",
            "  (features): Sequential(\n",
            "    (0): Conv2d(3, 64, kernel_size=(3, 3), stride=(1, 1), padding=(1, 1))\n",
            "    (1): ReLU(inplace=True)\n",
            "    (2): Conv2d(64, 64, kernel_size=(3, 3), stride=(1, 1), padding=(1, 1))\n",
            "    (3): ReLU(inplace=True)\n",
            "    (4): MaxPool2d(kernel_size=2, stride=2, padding=0, dilation=1, ceil_mode=False)\n",
            "    (5): Conv2d(64, 128, kernel_size=(3, 3), stride=(1, 1), padding=(1, 1))\n",
            "    (6): ReLU(inplace=True)\n",
            "    (7): Conv2d(128, 128, kernel_size=(3, 3), stride=(1, 1), padding=(1, 1))\n",
            "    (8): ReLU(inplace=True)\n",
            "    (9): MaxPool2d(kernel_size=2, stride=2, padding=0, dilation=1, ceil_mode=False)\n",
            "    (10): Conv2d(128, 256, kernel_size=(3, 3), stride=(1, 1), padding=(1, 1))\n",
            "    (11): ReLU(inplace=True)\n",
            "    (12): Conv2d(256, 256, kernel_size=(3, 3), stride=(1, 1), padding=(1, 1))\n",
            "    (13): ReLU(inplace=True)\n",
            "    (14): Conv2d(256, 256, kernel_size=(3, 3), stride=(1, 1), padding=(1, 1))\n",
            "    (15): ReLU(inplace=True)\n",
            "    (16): MaxPool2d(kernel_size=2, stride=2, padding=0, dilation=1, ceil_mode=False)\n",
            "    (17): Conv2d(256, 512, kernel_size=(3, 3), stride=(1, 1), padding=(1, 1))\n",
            "    (18): ReLU(inplace=True)\n",
            "    (19): Conv2d(512, 512, kernel_size=(3, 3), stride=(1, 1), padding=(1, 1))\n",
            "    (20): ReLU(inplace=True)\n",
            "    (21): Conv2d(512, 512, kernel_size=(3, 3), stride=(1, 1), padding=(1, 1))\n",
            "    (22): ReLU(inplace=True)\n",
            "    (23): MaxPool2d(kernel_size=2, stride=2, padding=0, dilation=1, ceil_mode=False)\n",
            "    (24): Conv2d(512, 512, kernel_size=(3, 3), stride=(1, 1), padding=(1, 1))\n",
            "    (25): ReLU(inplace=True)\n",
            "    (26): Conv2d(512, 512, kernel_size=(3, 3), stride=(1, 1), padding=(1, 1))\n",
            "    (27): ReLU(inplace=True)\n",
            "    (28): Conv2d(512, 512, kernel_size=(3, 3), stride=(1, 1), padding=(1, 1))\n",
            "    (29): ReLU(inplace=True)\n",
            "    (30): MaxPool2d(kernel_size=2, stride=2, padding=0, dilation=1, ceil_mode=False)\n",
            "  )\n",
            "  (avgpool): AdaptiveAvgPool2d(output_size=(7, 7))\n",
            "  (classifier): Sequential(\n",
            "    (0): Linear(in_features=25088, out_features=4096, bias=True)\n",
            "    (1): ReLU(inplace=True)\n",
            "    (2): Dropout(p=0.5, inplace=False)\n",
            "    (3): Linear(in_features=4096, out_features=4096, bias=True)\n",
            "    (4): ReLU(inplace=True)\n",
            "    (5): Dropout(p=0.5, inplace=False)\n",
            "    (6): Linear(in_features=4096, out_features=1000, bias=True)\n",
            "  )\n",
            ")\n"
          ]
        }
      ]
    },
    {
      "cell_type": "code",
      "source": [
        "import torch.nn as nn\n",
        "\n",
        "# Modify the final fully connected layer for 2 output classes\n",
        "model.classifier[6] = nn.Linear(4096, 2)  # Change the output to 2 classes\n",
        "\n",
        "# Print the modified model\n",
        "print(model)\n"
      ],
      "metadata": {
        "colab": {
          "base_uri": "https://localhost:8080/"
        },
        "id": "6oCUC5NjJQn8",
        "outputId": "97c2038a-afea-4a81-895b-01286d41ff91"
      },
      "execution_count": 36,
      "outputs": [
        {
          "output_type": "stream",
          "name": "stdout",
          "text": [
            "VGG(\n",
            "  (features): Sequential(\n",
            "    (0): Conv2d(3, 64, kernel_size=(3, 3), stride=(1, 1), padding=(1, 1))\n",
            "    (1): ReLU(inplace=True)\n",
            "    (2): Conv2d(64, 64, kernel_size=(3, 3), stride=(1, 1), padding=(1, 1))\n",
            "    (3): ReLU(inplace=True)\n",
            "    (4): MaxPool2d(kernel_size=2, stride=2, padding=0, dilation=1, ceil_mode=False)\n",
            "    (5): Conv2d(64, 128, kernel_size=(3, 3), stride=(1, 1), padding=(1, 1))\n",
            "    (6): ReLU(inplace=True)\n",
            "    (7): Conv2d(128, 128, kernel_size=(3, 3), stride=(1, 1), padding=(1, 1))\n",
            "    (8): ReLU(inplace=True)\n",
            "    (9): MaxPool2d(kernel_size=2, stride=2, padding=0, dilation=1, ceil_mode=False)\n",
            "    (10): Conv2d(128, 256, kernel_size=(3, 3), stride=(1, 1), padding=(1, 1))\n",
            "    (11): ReLU(inplace=True)\n",
            "    (12): Conv2d(256, 256, kernel_size=(3, 3), stride=(1, 1), padding=(1, 1))\n",
            "    (13): ReLU(inplace=True)\n",
            "    (14): Conv2d(256, 256, kernel_size=(3, 3), stride=(1, 1), padding=(1, 1))\n",
            "    (15): ReLU(inplace=True)\n",
            "    (16): MaxPool2d(kernel_size=2, stride=2, padding=0, dilation=1, ceil_mode=False)\n",
            "    (17): Conv2d(256, 512, kernel_size=(3, 3), stride=(1, 1), padding=(1, 1))\n",
            "    (18): ReLU(inplace=True)\n",
            "    (19): Conv2d(512, 512, kernel_size=(3, 3), stride=(1, 1), padding=(1, 1))\n",
            "    (20): ReLU(inplace=True)\n",
            "    (21): Conv2d(512, 512, kernel_size=(3, 3), stride=(1, 1), padding=(1, 1))\n",
            "    (22): ReLU(inplace=True)\n",
            "    (23): MaxPool2d(kernel_size=2, stride=2, padding=0, dilation=1, ceil_mode=False)\n",
            "    (24): Conv2d(512, 512, kernel_size=(3, 3), stride=(1, 1), padding=(1, 1))\n",
            "    (25): ReLU(inplace=True)\n",
            "    (26): Conv2d(512, 512, kernel_size=(3, 3), stride=(1, 1), padding=(1, 1))\n",
            "    (27): ReLU(inplace=True)\n",
            "    (28): Conv2d(512, 512, kernel_size=(3, 3), stride=(1, 1), padding=(1, 1))\n",
            "    (29): ReLU(inplace=True)\n",
            "    (30): MaxPool2d(kernel_size=2, stride=2, padding=0, dilation=1, ceil_mode=False)\n",
            "  )\n",
            "  (avgpool): AdaptiveAvgPool2d(output_size=(7, 7))\n",
            "  (classifier): Sequential(\n",
            "    (0): Linear(in_features=25088, out_features=4096, bias=True)\n",
            "    (1): ReLU(inplace=True)\n",
            "    (2): Dropout(p=0.5, inplace=False)\n",
            "    (3): Linear(in_features=4096, out_features=4096, bias=True)\n",
            "    (4): ReLU(inplace=True)\n",
            "    (5): Dropout(p=0.5, inplace=False)\n",
            "    (6): Linear(in_features=4096, out_features=2, bias=True)\n",
            "  )\n",
            ")\n"
          ]
        }
      ]
    },
    {
      "cell_type": "code",
      "source": [
        "import torch.optim as optim\n",
        "\n",
        "# Define loss function\n",
        "criterion = nn.CrossEntropyLoss()\n",
        "\n",
        "# Define optimizer\n",
        "optimizer = optim.Adam(model.parameters(), lr=0.001)\n"
      ],
      "metadata": {
        "id": "7AmxuVFHJTUI"
      },
      "execution_count": 37,
      "outputs": []
    },
    {
      "cell_type": "code",
      "source": [
        "#Move Model to GPU (if available)\n",
        "device = torch.device('cuda' if torch.cuda.is_available() else 'cpu')\n",
        "model = model.to(device)\n"
      ],
      "metadata": {
        "id": "jwEaNM1yJc_y"
      },
      "execution_count": 38,
      "outputs": []
    },
    {
      "cell_type": "markdown",
      "source": [
        "\n",
        "#4. Model Training:\n",
        "\n",
        "Train your deep learning model using the training dataset.\n",
        "Monitor training progress, including loss and accuracy, and consider using early stopping to prevent overfitting.\n"
      ],
      "metadata": {
        "id": "H1QDbOZh88LJ"
      }
    },
    {
      "cell_type": "code",
      "source": [
        "def train_model(model, train_loader, val_loader, criterion, optimizer, num_epochs=10):\n",
        "    model.train()\n",
        "    for epoch in range(num_epochs):\n",
        "        running_loss = 0.0\n",
        "        for images, labels in train_loader:\n",
        "            images, labels = images.to(device), labels.to(device)\n",
        "\n",
        "            # Zero the parameter gradients\n",
        "            optimizer.zero_grad()\n",
        "\n",
        "            # Forward pass\n",
        "            outputs = model(images)\n",
        "            loss = criterion(outputs, labels)\n",
        "\n",
        "            # Backward pass\n",
        "            loss.backward()\n",
        "            optimizer.step()\n",
        "\n",
        "            # Update running loss\n",
        "            running_loss += loss.item()\n",
        "\n",
        "        # Print loss for the epoch\n",
        "        print(f\"Epoch {epoch+1}/{num_epochs}, Loss: {running_loss/len(train_loader):.4f}\")\n",
        "\n",
        "        # Validate the model\n",
        "        validate_model(model, val_loader, criterion)\n",
        "\n",
        "# Validation function\n",
        "def validate_model(model, val_loader, criterion):\n",
        "    model.eval()\n",
        "    val_loss = 0.0\n",
        "    correct = 0\n",
        "    total = 0\n",
        "    with torch.no_grad():\n",
        "        for images, labels in val_loader:\n",
        "            images, labels = images.to(device), labels.to(device)\n",
        "            outputs = model(images)\n",
        "            loss = criterion(outputs, labels)\n",
        "            val_loss += loss.item()\n",
        "            _, predicted = torch.max(outputs, 1)\n",
        "            total += labels.size(0)\n",
        "            correct += (predicted == labels).sum().item()\n",
        "    print(f\"Validation Loss: {val_loss/len(val_loader):.4f}, Accuracy: {100 * correct / total:.2f}%\")\n"
      ],
      "metadata": {
        "id": "xvbvJhRx9Ukt"
      },
      "execution_count": 39,
      "outputs": []
    },
    {
      "cell_type": "code",
      "source": [
        "num_epochs = 10\n",
        "train_model(model, train_loader, val_loader, criterion, optimizer, num_epochs)\n"
      ],
      "metadata": {
        "colab": {
          "base_uri": "https://localhost:8080/"
        },
        "id": "_ta9YA1FJr5U",
        "outputId": "7f805dd2-da0b-443b-d9c9-1db38fa583f8"
      },
      "execution_count": 40,
      "outputs": [
        {
          "output_type": "stream",
          "name": "stdout",
          "text": [
            "Epoch 1/10, Loss: 1.4916\n",
            "Validation Loss: 0.6501, Accuracy: 63.41%\n",
            "Epoch 2/10, Loss: 0.7648\n",
            "Validation Loss: 1.1310, Accuracy: 36.59%\n",
            "Epoch 3/10, Loss: 0.6911\n",
            "Validation Loss: 0.7635, Accuracy: 36.59%\n",
            "Epoch 4/10, Loss: 0.6846\n",
            "Validation Loss: 0.6331, Accuracy: 63.41%\n",
            "Epoch 5/10, Loss: 0.7118\n",
            "Validation Loss: 0.6909, Accuracy: 53.66%\n",
            "Epoch 6/10, Loss: 0.6763\n",
            "Validation Loss: 0.7930, Accuracy: 36.59%\n",
            "Epoch 7/10, Loss: 0.6879\n",
            "Validation Loss: 0.7161, Accuracy: 36.59%\n",
            "Epoch 8/10, Loss: 0.7294\n",
            "Validation Loss: 0.7541, Accuracy: 36.59%\n",
            "Epoch 9/10, Loss: 0.6824\n",
            "Validation Loss: 0.8340, Accuracy: 36.59%\n",
            "Epoch 10/10, Loss: 0.6981\n",
            "Validation Loss: 0.9109, Accuracy: 36.59%\n"
          ]
        }
      ]
    },
    {
      "cell_type": "code",
      "source": [
        "#You can save the trained model for later use.\n",
        "torch.save(model.state_dict(), 'hip_xray_model.pth')\n"
      ],
      "metadata": {
        "id": "inrA9HFCJ3g0"
      },
      "execution_count": 41,
      "outputs": []
    },
    {
      "cell_type": "code",
      "source": [
        "# to To load the model later:\n",
        "\n",
        "model.load_state_dict(torch.load('hip_xray_model.pth'))\n",
        "model = model.to(device)\n"
      ],
      "metadata": {
        "colab": {
          "base_uri": "https://localhost:8080/"
        },
        "id": "HKqD6w26J8DJ",
        "outputId": "cfce97c7-b3da-4495-8344-f22080509195"
      },
      "execution_count": 42,
      "outputs": [
        {
          "output_type": "stream",
          "name": "stderr",
          "text": [
            "<ipython-input-42-26c9d20a9d8b>:3: FutureWarning: You are using `torch.load` with `weights_only=False` (the current default value), which uses the default pickle module implicitly. It is possible to construct malicious pickle data which will execute arbitrary code during unpickling (See https://github.com/pytorch/pytorch/blob/main/SECURITY.md#untrusted-models for more details). In a future release, the default value for `weights_only` will be flipped to `True`. This limits the functions that could be executed during unpickling. Arbitrary objects will no longer be allowed to be loaded via this mode unless they are explicitly allowlisted by the user via `torch.serialization.add_safe_globals`. We recommend you start setting `weights_only=True` for any use case where you don't have full control of the loaded file. Please open an issue on GitHub for any issues related to this experimental feature.\n",
            "  model.load_state_dict(torch.load('hip_xray_model.pth'))\n"
          ]
        }
      ]
    },
    {
      "cell_type": "markdown",
      "source": [
        "\n",
        "5. Hyperparameter Tuning:\n",
        "\n",
        "\n",
        "Experiment with different hyperparameters (e.g., learning rate, batch size) to optimize the model's performance.\n",
        "\n",
        "Keep a record of the hyperparameters used and their impact on the model.\n"
      ],
      "metadata": {
        "id": "AKvHd6CJ9U75"
      }
    },
    {
      "cell_type": "code",
      "source": [
        "\n",
        "import torch.optim as optim\n",
        "\n",
        "# Define a list of hyperparameters to experiment with\n",
        "hyperparameters = {\n",
        "    'learning_rate': [0.001, 0.0001, 0.01],\n",
        "    'batch_size': [16, 32, 64],\n",
        "}\n",
        "\n",
        "results = []\n",
        "\n",
        "for lr in hyperparameters['learning_rate']:\n",
        "    for batch_size in hyperparameters['batch_size']:\n",
        "        print(f\"Training with lr={lr}, batch_size={batch_size}\")\n",
        "\n",
        "        # Recreate data loaders with the current batch size\n",
        "        train_loader = DataLoader(train_dataset, batch_size=batch_size, shuffle=True)\n",
        "        val_loader = DataLoader(val_dataset, batch_size=batch_size, shuffle=False)\n",
        "\n",
        "        # Reload the model and reset the optimizer with the new learning rate\n",
        "        model = models.vgg16(pretrained=True)\n",
        "        model.classifier[6] = nn.Linear(4096, 2)\n",
        "        model = model.to(device)\n",
        "        optimizer = optim.Adam(model.parameters(), lr=lr)\n",
        "\n",
        "\n",
        "        num_epochs = 10\n",
        "        train_model(model, train_loader, val_loader, criterion, optimizer, num_epochs)\n",
        "\n",
        "        # Store the results\n",
        "        results.append({\n",
        "            'learning_rate': lr,\n",
        "            'batch_size': batch_size,\n",
        "\n",
        "        })\n",
        "\n",
        "# Print or save the results\n",
        "import pandas as pd\n",
        "results_df = pd.DataFrame(results)\n",
        "results_df\n",
        "# results_df.to_csv(\"hyperparameter_tuning_results.csv\", index=False)"
      ],
      "metadata": {
        "id": "9NgttcWU9akj",
        "colab": {
          "base_uri": "https://localhost:8080/",
          "height": 1000
        },
        "outputId": "fbf244f8-f7a6-4274-fd28-b9ac62de0657"
      },
      "execution_count": 43,
      "outputs": [
        {
          "output_type": "stream",
          "name": "stdout",
          "text": [
            "Training with lr=0.001, batch_size=16\n",
            "Epoch 1/10, Loss: 2.2723\n",
            "Validation Loss: 0.6980, Accuracy: 36.59%\n",
            "Epoch 2/10, Loss: 0.7063\n",
            "Validation Loss: 0.7132, Accuracy: 36.59%\n",
            "Epoch 3/10, Loss: 0.6872\n",
            "Validation Loss: 0.6543, Accuracy: 63.41%\n",
            "Epoch 4/10, Loss: 0.7050\n",
            "Validation Loss: 0.9397, Accuracy: 36.59%\n",
            "Epoch 5/10, Loss: 0.6903\n",
            "Validation Loss: 0.7250, Accuracy: 36.59%\n",
            "Epoch 6/10, Loss: 0.7076\n",
            "Validation Loss: 0.7519, Accuracy: 36.59%\n",
            "Epoch 7/10, Loss: 0.7667\n",
            "Validation Loss: 0.7380, Accuracy: 36.59%\n",
            "Epoch 8/10, Loss: 0.7390\n",
            "Validation Loss: 0.6963, Accuracy: 39.02%\n",
            "Epoch 9/10, Loss: 0.6913\n",
            "Validation Loss: 0.7578, Accuracy: 36.59%\n",
            "Epoch 10/10, Loss: 0.7376\n",
            "Validation Loss: 0.7031, Accuracy: 36.59%\n",
            "Training with lr=0.001, batch_size=32\n",
            "Epoch 1/10, Loss: 3.5658\n",
            "Validation Loss: 1.9408, Accuracy: 36.59%\n",
            "Epoch 2/10, Loss: 1.1266\n",
            "Validation Loss: 0.6826, Accuracy: 63.41%\n",
            "Epoch 3/10, Loss: 0.7360\n",
            "Validation Loss: 0.6884, Accuracy: 63.41%\n",
            "Epoch 4/10, Loss: 0.8419\n",
            "Validation Loss: 0.6460, Accuracy: 63.41%\n",
            "Epoch 5/10, Loss: 0.6993\n",
            "Validation Loss: 0.6440, Accuracy: 63.41%\n",
            "Epoch 6/10, Loss: 0.7151\n",
            "Validation Loss: 0.9126, Accuracy: 36.59%\n",
            "Epoch 7/10, Loss: 0.7180\n",
            "Validation Loss: 0.7586, Accuracy: 36.59%\n",
            "Epoch 8/10, Loss: 0.6850\n",
            "Validation Loss: 0.8419, Accuracy: 36.59%\n",
            "Epoch 9/10, Loss: 0.7629\n",
            "Validation Loss: 0.7010, Accuracy: 31.71%\n",
            "Epoch 10/10, Loss: 0.6886\n",
            "Validation Loss: 0.7511, Accuracy: 36.59%\n",
            "Training with lr=0.001, batch_size=64\n",
            "Epoch 1/10, Loss: 3.6483\n",
            "Validation Loss: 0.8916, Accuracy: 63.41%\n",
            "Epoch 2/10, Loss: 0.8965\n",
            "Validation Loss: 0.8872, Accuracy: 36.59%\n",
            "Epoch 3/10, Loss: 0.7274\n",
            "Validation Loss: 1.0650, Accuracy: 36.59%\n",
            "Epoch 4/10, Loss: 0.7691\n",
            "Validation Loss: 4.6205, Accuracy: 63.41%\n",
            "Epoch 5/10, Loss: 2.9499\n",
            "Validation Loss: 0.7328, Accuracy: 36.59%\n",
            "Epoch 6/10, Loss: 0.6969\n",
            "Validation Loss: 0.7507, Accuracy: 36.59%\n",
            "Epoch 7/10, Loss: 0.7028\n",
            "Validation Loss: 0.6836, Accuracy: 63.41%\n",
            "Epoch 8/10, Loss: 0.7293\n",
            "Validation Loss: 0.6572, Accuracy: 63.41%\n",
            "Epoch 9/10, Loss: 0.7232\n",
            "Validation Loss: 0.7083, Accuracy: 36.59%\n",
            "Epoch 10/10, Loss: 0.6907\n",
            "Validation Loss: 0.7835, Accuracy: 36.59%\n",
            "Training with lr=0.0001, batch_size=16\n",
            "Epoch 1/10, Loss: 0.6973\n",
            "Validation Loss: 0.8120, Accuracy: 36.59%\n",
            "Epoch 2/10, Loss: 0.6430\n",
            "Validation Loss: 0.7679, Accuracy: 56.10%\n",
            "Epoch 3/10, Loss: 0.5426\n",
            "Validation Loss: 0.4785, Accuracy: 73.17%\n",
            "Epoch 4/10, Loss: 0.5306\n",
            "Validation Loss: 0.4367, Accuracy: 70.73%\n",
            "Epoch 5/10, Loss: 0.3147\n",
            "Validation Loss: 0.3359, Accuracy: 85.37%\n",
            "Epoch 6/10, Loss: 0.2129\n",
            "Validation Loss: 0.4295, Accuracy: 85.37%\n",
            "Epoch 7/10, Loss: 0.2384\n",
            "Validation Loss: 0.5202, Accuracy: 80.49%\n",
            "Epoch 8/10, Loss: 0.2128\n",
            "Validation Loss: 0.2278, Accuracy: 95.12%\n",
            "Epoch 9/10, Loss: 0.0933\n",
            "Validation Loss: 0.5704, Accuracy: 87.80%\n",
            "Epoch 10/10, Loss: 0.0300\n",
            "Validation Loss: 0.8639, Accuracy: 87.80%\n",
            "Training with lr=0.0001, batch_size=32\n",
            "Epoch 1/10, Loss: 0.6958\n",
            "Validation Loss: 0.7775, Accuracy: 46.34%\n",
            "Epoch 2/10, Loss: 0.6263\n",
            "Validation Loss: 0.6127, Accuracy: 65.85%\n",
            "Epoch 3/10, Loss: 0.6903\n",
            "Validation Loss: 0.6585, Accuracy: 60.98%\n",
            "Epoch 4/10, Loss: 0.5273\n",
            "Validation Loss: 1.1334, Accuracy: 48.78%\n",
            "Epoch 5/10, Loss: 0.4364\n",
            "Validation Loss: 0.4165, Accuracy: 78.05%\n",
            "Epoch 6/10, Loss: 0.3440\n",
            "Validation Loss: 0.3872, Accuracy: 78.05%\n",
            "Epoch 7/10, Loss: 0.1883\n",
            "Validation Loss: 0.7174, Accuracy: 85.37%\n",
            "Epoch 8/10, Loss: 0.1017\n",
            "Validation Loss: 1.2254, Accuracy: 80.49%\n",
            "Epoch 9/10, Loss: 0.0181\n",
            "Validation Loss: 0.8797, Accuracy: 82.93%\n",
            "Epoch 10/10, Loss: 0.0455\n",
            "Validation Loss: 0.9010, Accuracy: 90.24%\n",
            "Training with lr=0.0001, batch_size=64\n",
            "Epoch 1/10, Loss: 0.8125\n",
            "Validation Loss: 0.6987, Accuracy: 43.90%\n",
            "Epoch 2/10, Loss: 0.6618\n",
            "Validation Loss: 0.6551, Accuracy: 65.85%\n",
            "Epoch 3/10, Loss: 0.5926\n",
            "Validation Loss: 0.5794, Accuracy: 65.85%\n",
            "Epoch 4/10, Loss: 0.5748\n",
            "Validation Loss: 0.6241, Accuracy: 68.29%\n",
            "Epoch 5/10, Loss: 0.5865\n",
            "Validation Loss: 0.5290, Accuracy: 78.05%\n",
            "Epoch 6/10, Loss: 0.4615\n",
            "Validation Loss: 0.6292, Accuracy: 63.41%\n",
            "Epoch 7/10, Loss: 0.3675\n",
            "Validation Loss: 0.5399, Accuracy: 78.05%\n",
            "Epoch 8/10, Loss: 0.4053\n",
            "Validation Loss: 0.4260, Accuracy: 80.49%\n",
            "Epoch 9/10, Loss: 0.2990\n",
            "Validation Loss: 0.7323, Accuracy: 75.61%\n",
            "Epoch 10/10, Loss: 0.1474\n",
            "Validation Loss: 0.3230, Accuracy: 82.93%\n",
            "Training with lr=0.01, batch_size=16\n",
            "Epoch 1/10, Loss: 989904950.8571\n",
            "Validation Loss: 3117896.8333, Accuracy: 36.59%\n",
            "Epoch 2/10, Loss: 1854829.7925\n",
            "Validation Loss: 871249.6458, Accuracy: 36.59%\n",
            "Epoch 3/10, Loss: 464152.1428\n",
            "Validation Loss: 46456.8060, Accuracy: 36.59%\n",
            "Epoch 4/10, Loss: 48474912.1366\n",
            "Validation Loss: 308832.7292, Accuracy: 36.59%\n",
            "Epoch 5/10, Loss: 1003121.6749\n",
            "Validation Loss: 560854.0417, Accuracy: 63.41%\n",
            "Epoch 6/10, Loss: 707206.9523\n",
            "Validation Loss: 38248.8125, Accuracy: 36.59%\n",
            "Epoch 7/10, Loss: 24407.6000\n",
            "Validation Loss: 12470.4870, Accuracy: 36.59%\n",
            "Epoch 8/10, Loss: 16632.9434\n",
            "Validation Loss: 22372.5876, Accuracy: 63.41%\n",
            "Epoch 9/10, Loss: 44276.2765\n",
            "Validation Loss: 111179.3646, Accuracy: 63.41%\n",
            "Epoch 10/10, Loss: 109184.2066\n",
            "Validation Loss: 10212.3426, Accuracy: 63.41%\n",
            "Training with lr=0.01, batch_size=32\n",
            "Epoch 1/10, Loss: 13390273159.6877\n",
            "Validation Loss: 138299.6797, Accuracy: 63.41%\n",
            "Epoch 2/10, Loss: 6005044.4572\n",
            "Validation Loss: 463810.5625, Accuracy: 63.41%\n",
            "Epoch 3/10, Loss: 2297892.9990\n",
            "Validation Loss: 5127046.7500, Accuracy: 36.59%\n",
            "Epoch 4/10, Loss: 959786.1085\n",
            "Validation Loss: 408533.4688, Accuracy: 36.59%\n",
            "Epoch 5/10, Loss: 139762.1844\n",
            "Validation Loss: 50030.8105, Accuracy: 36.59%\n",
            "Epoch 6/10, Loss: 53109.3505\n",
            "Validation Loss: 45622.3604, Accuracy: 63.41%\n",
            "Epoch 7/10, Loss: 35531.6494\n",
            "Validation Loss: 13302.2261, Accuracy: 36.59%\n",
            "Epoch 8/10, Loss: 6382.4869\n",
            "Validation Loss: 22689.4912, Accuracy: 63.41%\n",
            "Epoch 9/10, Loss: 19494.4848\n",
            "Validation Loss: 2060.7935, Accuracy: 63.41%\n",
            "Epoch 10/10, Loss: 2531.9061\n",
            "Validation Loss: 163888.0703, Accuracy: 36.59%\n",
            "Training with lr=0.01, batch_size=64\n",
            "Epoch 1/10, Loss: 9956275754.9758\n",
            "Validation Loss: 112500.6328, Accuracy: 63.41%\n",
            "Epoch 2/10, Loss: 431817.9648\n",
            "Validation Loss: 48982208.0000, Accuracy: 36.59%\n",
            "Epoch 3/10, Loss: 51987031.7500\n",
            "Validation Loss: 3564945.5000, Accuracy: 63.41%\n",
            "Epoch 4/10, Loss: 3399725.2391\n",
            "Validation Loss: 420169.6250, Accuracy: 36.59%\n",
            "Epoch 5/10, Loss: 8371670.3542\n",
            "Validation Loss: 24038.2129, Accuracy: 63.41%\n",
            "Epoch 6/10, Loss: 161710.6159\n",
            "Validation Loss: 141597.7500, Accuracy: 36.59%\n",
            "Epoch 7/10, Loss: 269154.5990\n",
            "Validation Loss: 1231315.7500, Accuracy: 36.59%\n",
            "Epoch 8/10, Loss: 350179.8216\n",
            "Validation Loss: 32129.4395, Accuracy: 63.41%\n",
            "Epoch 9/10, Loss: 42538292.5078\n",
            "Validation Loss: 27436.1523, Accuracy: 63.41%\n",
            "Epoch 10/10, Loss: 317476.3190\n",
            "Validation Loss: 20994.0098, Accuracy: 36.59%\n"
          ]
        },
        {
          "output_type": "execute_result",
          "data": {
            "text/plain": [
              "   learning_rate  batch_size\n",
              "0         0.0010          16\n",
              "1         0.0010          32\n",
              "2         0.0010          64\n",
              "3         0.0001          16\n",
              "4         0.0001          32\n",
              "5         0.0001          64\n",
              "6         0.0100          16\n",
              "7         0.0100          32\n",
              "8         0.0100          64"
            ],
            "text/html": [
              "\n",
              "  <div id=\"df-39ff436e-f399-4f68-b96d-92d72a10984f\" class=\"colab-df-container\">\n",
              "    <div>\n",
              "<style scoped>\n",
              "    .dataframe tbody tr th:only-of-type {\n",
              "        vertical-align: middle;\n",
              "    }\n",
              "\n",
              "    .dataframe tbody tr th {\n",
              "        vertical-align: top;\n",
              "    }\n",
              "\n",
              "    .dataframe thead th {\n",
              "        text-align: right;\n",
              "    }\n",
              "</style>\n",
              "<table border=\"1\" class=\"dataframe\">\n",
              "  <thead>\n",
              "    <tr style=\"text-align: right;\">\n",
              "      <th></th>\n",
              "      <th>learning_rate</th>\n",
              "      <th>batch_size</th>\n",
              "    </tr>\n",
              "  </thead>\n",
              "  <tbody>\n",
              "    <tr>\n",
              "      <th>0</th>\n",
              "      <td>0.0010</td>\n",
              "      <td>16</td>\n",
              "    </tr>\n",
              "    <tr>\n",
              "      <th>1</th>\n",
              "      <td>0.0010</td>\n",
              "      <td>32</td>\n",
              "    </tr>\n",
              "    <tr>\n",
              "      <th>2</th>\n",
              "      <td>0.0010</td>\n",
              "      <td>64</td>\n",
              "    </tr>\n",
              "    <tr>\n",
              "      <th>3</th>\n",
              "      <td>0.0001</td>\n",
              "      <td>16</td>\n",
              "    </tr>\n",
              "    <tr>\n",
              "      <th>4</th>\n",
              "      <td>0.0001</td>\n",
              "      <td>32</td>\n",
              "    </tr>\n",
              "    <tr>\n",
              "      <th>5</th>\n",
              "      <td>0.0001</td>\n",
              "      <td>64</td>\n",
              "    </tr>\n",
              "    <tr>\n",
              "      <th>6</th>\n",
              "      <td>0.0100</td>\n",
              "      <td>16</td>\n",
              "    </tr>\n",
              "    <tr>\n",
              "      <th>7</th>\n",
              "      <td>0.0100</td>\n",
              "      <td>32</td>\n",
              "    </tr>\n",
              "    <tr>\n",
              "      <th>8</th>\n",
              "      <td>0.0100</td>\n",
              "      <td>64</td>\n",
              "    </tr>\n",
              "  </tbody>\n",
              "</table>\n",
              "</div>\n",
              "    <div class=\"colab-df-buttons\">\n",
              "\n",
              "  <div class=\"colab-df-container\">\n",
              "    <button class=\"colab-df-convert\" onclick=\"convertToInteractive('df-39ff436e-f399-4f68-b96d-92d72a10984f')\"\n",
              "            title=\"Convert this dataframe to an interactive table.\"\n",
              "            style=\"display:none;\">\n",
              "\n",
              "  <svg xmlns=\"http://www.w3.org/2000/svg\" height=\"24px\" viewBox=\"0 -960 960 960\">\n",
              "    <path d=\"M120-120v-720h720v720H120Zm60-500h600v-160H180v160Zm220 220h160v-160H400v160Zm0 220h160v-160H400v160ZM180-400h160v-160H180v160Zm440 0h160v-160H620v160ZM180-180h160v-160H180v160Zm440 0h160v-160H620v160Z\"/>\n",
              "  </svg>\n",
              "    </button>\n",
              "\n",
              "  <style>\n",
              "    .colab-df-container {\n",
              "      display:flex;\n",
              "      gap: 12px;\n",
              "    }\n",
              "\n",
              "    .colab-df-convert {\n",
              "      background-color: #E8F0FE;\n",
              "      border: none;\n",
              "      border-radius: 50%;\n",
              "      cursor: pointer;\n",
              "      display: none;\n",
              "      fill: #1967D2;\n",
              "      height: 32px;\n",
              "      padding: 0 0 0 0;\n",
              "      width: 32px;\n",
              "    }\n",
              "\n",
              "    .colab-df-convert:hover {\n",
              "      background-color: #E2EBFA;\n",
              "      box-shadow: 0px 1px 2px rgba(60, 64, 67, 0.3), 0px 1px 3px 1px rgba(60, 64, 67, 0.15);\n",
              "      fill: #174EA6;\n",
              "    }\n",
              "\n",
              "    .colab-df-buttons div {\n",
              "      margin-bottom: 4px;\n",
              "    }\n",
              "\n",
              "    [theme=dark] .colab-df-convert {\n",
              "      background-color: #3B4455;\n",
              "      fill: #D2E3FC;\n",
              "    }\n",
              "\n",
              "    [theme=dark] .colab-df-convert:hover {\n",
              "      background-color: #434B5C;\n",
              "      box-shadow: 0px 1px 3px 1px rgba(0, 0, 0, 0.15);\n",
              "      filter: drop-shadow(0px 1px 2px rgba(0, 0, 0, 0.3));\n",
              "      fill: #FFFFFF;\n",
              "    }\n",
              "  </style>\n",
              "\n",
              "    <script>\n",
              "      const buttonEl =\n",
              "        document.querySelector('#df-39ff436e-f399-4f68-b96d-92d72a10984f button.colab-df-convert');\n",
              "      buttonEl.style.display =\n",
              "        google.colab.kernel.accessAllowed ? 'block' : 'none';\n",
              "\n",
              "      async function convertToInteractive(key) {\n",
              "        const element = document.querySelector('#df-39ff436e-f399-4f68-b96d-92d72a10984f');\n",
              "        const dataTable =\n",
              "          await google.colab.kernel.invokeFunction('convertToInteractive',\n",
              "                                                    [key], {});\n",
              "        if (!dataTable) return;\n",
              "\n",
              "        const docLinkHtml = 'Like what you see? Visit the ' +\n",
              "          '<a target=\"_blank\" href=https://colab.research.google.com/notebooks/data_table.ipynb>data table notebook</a>'\n",
              "          + ' to learn more about interactive tables.';\n",
              "        element.innerHTML = '';\n",
              "        dataTable['output_type'] = 'display_data';\n",
              "        await google.colab.output.renderOutput(dataTable, element);\n",
              "        const docLink = document.createElement('div');\n",
              "        docLink.innerHTML = docLinkHtml;\n",
              "        element.appendChild(docLink);\n",
              "      }\n",
              "    </script>\n",
              "  </div>\n",
              "\n",
              "\n",
              "<div id=\"df-0201c25b-5b64-4cf2-921c-551acb47cf89\">\n",
              "  <button class=\"colab-df-quickchart\" onclick=\"quickchart('df-0201c25b-5b64-4cf2-921c-551acb47cf89')\"\n",
              "            title=\"Suggest charts\"\n",
              "            style=\"display:none;\">\n",
              "\n",
              "<svg xmlns=\"http://www.w3.org/2000/svg\" height=\"24px\"viewBox=\"0 0 24 24\"\n",
              "     width=\"24px\">\n",
              "    <g>\n",
              "        <path d=\"M19 3H5c-1.1 0-2 .9-2 2v14c0 1.1.9 2 2 2h14c1.1 0 2-.9 2-2V5c0-1.1-.9-2-2-2zM9 17H7v-7h2v7zm4 0h-2V7h2v10zm4 0h-2v-4h2v4z\"/>\n",
              "    </g>\n",
              "</svg>\n",
              "  </button>\n",
              "\n",
              "<style>\n",
              "  .colab-df-quickchart {\n",
              "      --bg-color: #E8F0FE;\n",
              "      --fill-color: #1967D2;\n",
              "      --hover-bg-color: #E2EBFA;\n",
              "      --hover-fill-color: #174EA6;\n",
              "      --disabled-fill-color: #AAA;\n",
              "      --disabled-bg-color: #DDD;\n",
              "  }\n",
              "\n",
              "  [theme=dark] .colab-df-quickchart {\n",
              "      --bg-color: #3B4455;\n",
              "      --fill-color: #D2E3FC;\n",
              "      --hover-bg-color: #434B5C;\n",
              "      --hover-fill-color: #FFFFFF;\n",
              "      --disabled-bg-color: #3B4455;\n",
              "      --disabled-fill-color: #666;\n",
              "  }\n",
              "\n",
              "  .colab-df-quickchart {\n",
              "    background-color: var(--bg-color);\n",
              "    border: none;\n",
              "    border-radius: 50%;\n",
              "    cursor: pointer;\n",
              "    display: none;\n",
              "    fill: var(--fill-color);\n",
              "    height: 32px;\n",
              "    padding: 0;\n",
              "    width: 32px;\n",
              "  }\n",
              "\n",
              "  .colab-df-quickchart:hover {\n",
              "    background-color: var(--hover-bg-color);\n",
              "    box-shadow: 0 1px 2px rgba(60, 64, 67, 0.3), 0 1px 3px 1px rgba(60, 64, 67, 0.15);\n",
              "    fill: var(--button-hover-fill-color);\n",
              "  }\n",
              "\n",
              "  .colab-df-quickchart-complete:disabled,\n",
              "  .colab-df-quickchart-complete:disabled:hover {\n",
              "    background-color: var(--disabled-bg-color);\n",
              "    fill: var(--disabled-fill-color);\n",
              "    box-shadow: none;\n",
              "  }\n",
              "\n",
              "  .colab-df-spinner {\n",
              "    border: 2px solid var(--fill-color);\n",
              "    border-color: transparent;\n",
              "    border-bottom-color: var(--fill-color);\n",
              "    animation:\n",
              "      spin 1s steps(1) infinite;\n",
              "  }\n",
              "\n",
              "  @keyframes spin {\n",
              "    0% {\n",
              "      border-color: transparent;\n",
              "      border-bottom-color: var(--fill-color);\n",
              "      border-left-color: var(--fill-color);\n",
              "    }\n",
              "    20% {\n",
              "      border-color: transparent;\n",
              "      border-left-color: var(--fill-color);\n",
              "      border-top-color: var(--fill-color);\n",
              "    }\n",
              "    30% {\n",
              "      border-color: transparent;\n",
              "      border-left-color: var(--fill-color);\n",
              "      border-top-color: var(--fill-color);\n",
              "      border-right-color: var(--fill-color);\n",
              "    }\n",
              "    40% {\n",
              "      border-color: transparent;\n",
              "      border-right-color: var(--fill-color);\n",
              "      border-top-color: var(--fill-color);\n",
              "    }\n",
              "    60% {\n",
              "      border-color: transparent;\n",
              "      border-right-color: var(--fill-color);\n",
              "    }\n",
              "    80% {\n",
              "      border-color: transparent;\n",
              "      border-right-color: var(--fill-color);\n",
              "      border-bottom-color: var(--fill-color);\n",
              "    }\n",
              "    90% {\n",
              "      border-color: transparent;\n",
              "      border-bottom-color: var(--fill-color);\n",
              "    }\n",
              "  }\n",
              "</style>\n",
              "\n",
              "  <script>\n",
              "    async function quickchart(key) {\n",
              "      const quickchartButtonEl =\n",
              "        document.querySelector('#' + key + ' button');\n",
              "      quickchartButtonEl.disabled = true;  // To prevent multiple clicks.\n",
              "      quickchartButtonEl.classList.add('colab-df-spinner');\n",
              "      try {\n",
              "        const charts = await google.colab.kernel.invokeFunction(\n",
              "            'suggestCharts', [key], {});\n",
              "      } catch (error) {\n",
              "        console.error('Error during call to suggestCharts:', error);\n",
              "      }\n",
              "      quickchartButtonEl.classList.remove('colab-df-spinner');\n",
              "      quickchartButtonEl.classList.add('colab-df-quickchart-complete');\n",
              "    }\n",
              "    (() => {\n",
              "      let quickchartButtonEl =\n",
              "        document.querySelector('#df-0201c25b-5b64-4cf2-921c-551acb47cf89 button');\n",
              "      quickchartButtonEl.style.display =\n",
              "        google.colab.kernel.accessAllowed ? 'block' : 'none';\n",
              "    })();\n",
              "  </script>\n",
              "</div>\n",
              "\n",
              "  <div id=\"id_6c961fcb-12d4-4cfd-a75e-afb11b7aa42b\">\n",
              "    <style>\n",
              "      .colab-df-generate {\n",
              "        background-color: #E8F0FE;\n",
              "        border: none;\n",
              "        border-radius: 50%;\n",
              "        cursor: pointer;\n",
              "        display: none;\n",
              "        fill: #1967D2;\n",
              "        height: 32px;\n",
              "        padding: 0 0 0 0;\n",
              "        width: 32px;\n",
              "      }\n",
              "\n",
              "      .colab-df-generate:hover {\n",
              "        background-color: #E2EBFA;\n",
              "        box-shadow: 0px 1px 2px rgba(60, 64, 67, 0.3), 0px 1px 3px 1px rgba(60, 64, 67, 0.15);\n",
              "        fill: #174EA6;\n",
              "      }\n",
              "\n",
              "      [theme=dark] .colab-df-generate {\n",
              "        background-color: #3B4455;\n",
              "        fill: #D2E3FC;\n",
              "      }\n",
              "\n",
              "      [theme=dark] .colab-df-generate:hover {\n",
              "        background-color: #434B5C;\n",
              "        box-shadow: 0px 1px 3px 1px rgba(0, 0, 0, 0.15);\n",
              "        filter: drop-shadow(0px 1px 2px rgba(0, 0, 0, 0.3));\n",
              "        fill: #FFFFFF;\n",
              "      }\n",
              "    </style>\n",
              "    <button class=\"colab-df-generate\" onclick=\"generateWithVariable('results_df')\"\n",
              "            title=\"Generate code using this dataframe.\"\n",
              "            style=\"display:none;\">\n",
              "\n",
              "  <svg xmlns=\"http://www.w3.org/2000/svg\" height=\"24px\"viewBox=\"0 0 24 24\"\n",
              "       width=\"24px\">\n",
              "    <path d=\"M7,19H8.4L18.45,9,17,7.55,7,17.6ZM5,21V16.75L18.45,3.32a2,2,0,0,1,2.83,0l1.4,1.43a1.91,1.91,0,0,1,.58,1.4,1.91,1.91,0,0,1-.58,1.4L9.25,21ZM18.45,9,17,7.55Zm-12,3A5.31,5.31,0,0,0,4.9,8.1,5.31,5.31,0,0,0,1,6.5,5.31,5.31,0,0,0,4.9,4.9,5.31,5.31,0,0,0,6.5,1,5.31,5.31,0,0,0,8.1,4.9,5.31,5.31,0,0,0,12,6.5,5.46,5.46,0,0,0,6.5,12Z\"/>\n",
              "  </svg>\n",
              "    </button>\n",
              "    <script>\n",
              "      (() => {\n",
              "      const buttonEl =\n",
              "        document.querySelector('#id_6c961fcb-12d4-4cfd-a75e-afb11b7aa42b button.colab-df-generate');\n",
              "      buttonEl.style.display =\n",
              "        google.colab.kernel.accessAllowed ? 'block' : 'none';\n",
              "\n",
              "      buttonEl.onclick = () => {\n",
              "        google.colab.notebook.generateWithVariable('results_df');\n",
              "      }\n",
              "      })();\n",
              "    </script>\n",
              "  </div>\n",
              "\n",
              "    </div>\n",
              "  </div>\n"
            ],
            "application/vnd.google.colaboratory.intrinsic+json": {
              "type": "dataframe",
              "variable_name": "results_df",
              "summary": "{\n  \"name\": \"results_df\",\n  \"rows\": 9,\n  \"fields\": [\n    {\n      \"column\": \"learning_rate\",\n      \"properties\": {\n        \"dtype\": \"number\",\n        \"std\": 0.004741044188783732,\n        \"min\": 0.0001,\n        \"max\": 0.01,\n        \"num_unique_values\": 3,\n        \"samples\": [\n          0.001,\n          0.0001,\n          0.01\n        ],\n        \"semantic_type\": \"\",\n        \"description\": \"\"\n      }\n    },\n    {\n      \"column\": \"batch_size\",\n      \"properties\": {\n        \"dtype\": \"number\",\n        \"std\": 21,\n        \"min\": 16,\n        \"max\": 64,\n        \"num_unique_values\": 3,\n        \"samples\": [\n          16,\n          32,\n          64\n        ],\n        \"semantic_type\": \"\",\n        \"description\": \"\"\n      }\n    }\n  ]\n}"
            }
          },
          "metadata": {},
          "execution_count": 43
        }
      ]
    },
    {
      "cell_type": "markdown",
      "source": [
        "\n",
        "#6. Evaluation:\n",
        "\n",
        "Evaluate your trained model using the validation dataset to assess its performance.\n",
        "\n",
        "Calculate relevant metrics such as accuracy, precision, recall, and F1-score.\n",
        "Visualize the model's predictions and misclassifications.\n"
      ],
      "metadata": {
        "id": "r1wqKt7R9a7H"
      }
    },
    {
      "cell_type": "code",
      "source": [
        "def test_model(model, test_loader):\n",
        "    model.eval()\n",
        "    correct = 0\n",
        "    total = 0\n",
        "    with torch.no_grad():\n",
        "        for images, labels in test_loader:\n",
        "            images, labels = images.to(device), labels.to(device)\n",
        "            outputs = model(images)\n",
        "            _, predicted = torch.max(outputs, 1)\n",
        "            total += labels.size(0)\n",
        "            correct += (predicted == labels).sum().item()\n",
        "    print(f\"Test Accuracy: {100 * correct / total:.2f}%\")\n",
        "\n",
        "# Evaluate the model\n",
        "test_model(model, test_loader)\n"
      ],
      "metadata": {
        "id": "GkyFi4Fk9e0j",
        "colab": {
          "base_uri": "https://localhost:8080/"
        },
        "outputId": "b4c07822-c6fa-421a-a262-31416efec0a7"
      },
      "execution_count": 44,
      "outputs": [
        {
          "output_type": "stream",
          "name": "stdout",
          "text": [
            "Test Accuracy: 61.90%\n"
          ]
        }
      ]
    },
    {
      "cell_type": "markdown",
      "source": [
        "\n",
        "7. Fine-Tuning and Iteration:\n",
        "\n",
        "If necessary, make adjustments to the model architecture or hyperparameters based on the evaluation results.\n",
        "\n",
        "Reiterate the training and evaluation steps until you achieve a satisfactory performance.\n"
      ],
      "metadata": {
        "id": "WDmWGM8B9fGN"
      }
    },
    {
      "cell_type": "code",
      "source": [
        "# prompt: use these hyper parameters for the model hyper parameters of lr=0.0001, batch_size=32 to train it and Reiterate the training and evaluation steps\n",
        "\n",
        "# Re-run the training and evaluation with lr=0.0001 and batch_size=32\n",
        "lr = 0.0001\n",
        "batch_size = 32\n",
        "\n",
        "print(f\"Training with lr={lr}, batch_size={batch_size}\")\n",
        "\n",
        "# Recreate data loaders with the specified batch size\n",
        "train_loader = DataLoader(train_dataset, batch_size=batch_size, shuffle=True)\n",
        "val_loader = DataLoader(val_dataset, batch_size=batch_size, shuffle=False)\n",
        "\n",
        "# Reload the model and reset the optimizer with the new learning rate\n",
        "model_vgg16_2 = models.vgg16(pretrained=True)\n",
        "model_vgg16_2.classifier[6] = nn.Linear(4096, 2)\n",
        "model_vgg16_2 = model.to(device)\n",
        "optimizer = optim.Adam(model_vgg16_2.parameters(), lr=lr)\n",
        "\n",
        "num_epochs = 10  # You can adjust the number of epochs\n",
        "train_model(model_vgg16_2, train_loader, val_loader, criterion, optimizer, num_epochs)\n"
      ],
      "metadata": {
        "colab": {
          "base_uri": "https://localhost:8080/"
        },
        "id": "6JbayvT2NXHg",
        "outputId": "576bcb4b-ab80-4882-cd27-d2d7801bd793"
      },
      "execution_count": 45,
      "outputs": [
        {
          "output_type": "stream",
          "name": "stdout",
          "text": [
            "Training with lr=0.0001, batch_size=32\n"
          ]
        },
        {
          "output_type": "stream",
          "name": "stderr",
          "text": [
            "/usr/local/lib/python3.10/dist-packages/torchvision/models/_utils.py:208: UserWarning: The parameter 'pretrained' is deprecated since 0.13 and may be removed in the future, please use 'weights' instead.\n",
            "  warnings.warn(\n",
            "/usr/local/lib/python3.10/dist-packages/torchvision/models/_utils.py:223: UserWarning: Arguments other than a weight enum or `None` for 'weights' are deprecated since 0.13 and may be removed in the future. The current behavior is equivalent to passing `weights=VGG16_Weights.IMAGENET1K_V1`. You can also use `weights=VGG16_Weights.DEFAULT` to get the most up-to-date weights.\n",
            "  warnings.warn(msg)\n"
          ]
        },
        {
          "output_type": "stream",
          "name": "stdout",
          "text": [
            "Epoch 1/10, Loss: 253926.1219\n",
            "Validation Loss: 18960.7109, Accuracy: 36.59%\n",
            "Epoch 2/10, Loss: 7786.0738\n",
            "Validation Loss: 3062.1256, Accuracy: 63.41%\n",
            "Epoch 3/10, Loss: 4273.7144\n",
            "Validation Loss: 12057.9858, Accuracy: 36.59%\n",
            "Epoch 4/10, Loss: 4842.2906\n",
            "Validation Loss: 1710.3654, Accuracy: 63.41%\n",
            "Epoch 5/10, Loss: 3508.6560\n",
            "Validation Loss: 7940.4583, Accuracy: 36.59%\n",
            "Epoch 6/10, Loss: 2321.3606\n",
            "Validation Loss: 2096.0012, Accuracy: 63.41%\n",
            "Epoch 7/10, Loss: 1931.3574\n",
            "Validation Loss: 1448.0086, Accuracy: 36.59%\n",
            "Epoch 8/10, Loss: 730.8256\n",
            "Validation Loss: 168.7050, Accuracy: 63.41%\n",
            "Epoch 9/10, Loss: 521.3686\n",
            "Validation Loss: 210.0903, Accuracy: 63.41%\n",
            "Epoch 10/10, Loss: 590.4738\n",
            "Validation Loss: 522.2820, Accuracy: 63.41%\n"
          ]
        }
      ]
    },
    {
      "cell_type": "markdown",
      "source": [
        "\n",
        "\n",
        "8. Final Model Testing:\n",
        "\n",
        "Test your final model on the held-out test dataset to assess its generalization to unseen data."
      ],
      "metadata": {
        "id": "qD35gmRP9jDN"
      }
    },
    {
      "cell_type": "code",
      "source": [
        "# Evaluate the model\n",
        "test_model(model_vgg16_2, test_loader)"
      ],
      "metadata": {
        "id": "avMOUmrd9mtA",
        "colab": {
          "base_uri": "https://localhost:8080/"
        },
        "outputId": "9baa0c89-8f10-4a79-d84b-4ef8d5e36907"
      },
      "execution_count": 46,
      "outputs": [
        {
          "output_type": "stream",
          "name": "stdout",
          "text": [
            "Test Accuracy: 38.10%\n"
          ]
        }
      ]
    },
    {
      "cell_type": "markdown",
      "source": [
        "\n",
        "9. Documentation and Reporting:\n",
        "\n",
        "Create a project report summarizing your dataset, model architecture, training process, evaluation results, and insights gained.\n",
        "Include visualizations and explanations to make your findings clear.\n"
      ],
      "metadata": {
        "id": "FjVBDSFt9m-N"
      }
    },
    {
      "cell_type": "markdown",
      "source": [
        "\n",
        "\n",
        "This code implements a deep learning model for image classification, specifically designed to classify hip x-ray images into two categories. Let's break down the code step-by-step, explaining the process and the rationale behind each component.\n",
        "\n",
        "**1. Data Preparation and Preprocessing:**\n",
        "\n",
        "The code begins by mounting Google Drive to access the dataset, which is assumed to be stored as a zip file named `hipimages1.zip`. The zip file is extracted into a folder named `data`.  Crucially, the dataset is then split into training, validation, and testing sets.  This division is essential for evaluating the model's performance and preventing overfitting. Image transformations are applied to the images before they're used in the training process.  The training set undergoes augmentations like random horizontal flips and rotations, increasing the model's exposure to variations in the data and potentially improving its robustness. All datasets are resized to 224x224, this is common practice for many pretrained models, and normalization of pixel values is also done to standardize the input data. This standardization helps the neural network learn more efficiently and effectively.\n",
        "\n",
        "**2. Model Selection and Architecture:**\n",
        "\n",
        "A pre-trained VGG16 model is selected as the base architecture.  Pre-trained models are advantageous as they have already learned features from a massive dataset (ImageNet, in this case).  This transfer learning approach reduces training time and can improve performance, especially with smaller datasets. The final fully connected layer of the VGG16 model is modified to have 2 output neurons, corresponding to the two classes in the hip x-ray dataset.  The model is then moved to a GPU for faster training if one is available.\n",
        "\n",
        "**3. Model Training and Hyperparameter Tuning:**\n",
        "\n",
        "The code utilizes the Adam optimizer and cross-entropy loss for training.  Adam is a popular optimization algorithm known for its adaptive learning rates.  Cross-entropy loss is a common choice for multi-class classification.  A hyperparameter tuning loop iterates through different learning rates and batch sizes.  This allows for experimentation to find the best combination that improves accuracy and minimizes loss. The `train_model` function encapsulates the training loop, which iterates through multiple epochs. During each epoch, images are fed through the network, backpropagation adjusts model weights to minimize the loss.  The `validate_model` function performs validation at the end of every epoch, providing insights into the model's performance on unseen data and helping monitor overfitting.\n",
        "\n",
        "**4. Model Evaluation and Testing:**\n",
        "\n",
        "The model is evaluated on both the validation and test sets.  The validation set is used during the hyperparameter tuning process to identify the best model configuration.  After tuning, the model's final performance is assessed on the test set, providing a measure of how well the model generalizes to completely unseen data.\n",
        "\n",
        "**5.  Fine-Tuning:**\n",
        "\n",
        "The code then performs a final training iteration using the hyperparameters that resulted in the best performance (learning rate=0.0001, batch size=32). This is a common refinement step after initial hyperparameter exploration.\n",
        "\n",
        "**Hyperparameters and Their Importance:**\n",
        "\n",
        "* **Learning Rate:** Controls the size of the steps the optimizer takes when updating the model's weights during training.  A small learning rate might lead to slow convergence, while a large one may overshoot the optimal weights.\n",
        "\n",
        "* **Batch Size:** Defines the number of samples processed before the model's weights are updated. A larger batch size can lead to faster training, but it also requires more memory.\n",
        "\n",
        "* **Number of Epochs:**  Defines the number of times the entire training dataset is passed through the model during training.  Too few epochs may result in underfitting, while too many may cause overfitting.\n",
        "\n",
        "* **Optimizer:** The optimization algorithm used to update model weights, Adam's adaptive learning rates and momentum are advantageous.\n",
        "\n",
        "The code demonstrates a comprehensive deep learning workflow, including key steps such as data preprocessing, model selection, training, hyperparameter tuning, and model evaluation. The use of pre-trained models and hyperparameter tuning techniques helps improve the model's accuracy and efficiency.\n"
      ],
      "metadata": {
        "id": "7o6_T-0iPC4P"
      }
    },
    {
      "cell_type": "markdown",
      "source": [
        "10. Presentation:\n",
        "\n",
        "Prepare a brief presentation to showcase your project's key findings and outcomes.\n",
        "Share your experiences, challenges faced, and lessons learned during the project."
      ],
      "metadata": {
        "id": "6Ax0es9T9pnh"
      }
    },
    {
      "cell_type": "code",
      "source": [],
      "metadata": {
        "id": "DyVJYylD9row"
      },
      "execution_count": 46,
      "outputs": []
    },
    {
      "cell_type": "markdown",
      "source": [
        "\n",
        "11. Conclusion:\n",
        "\n",
        "Conclude your capstone project by summarizing your achievements and any future work or improvements that could be made to the model.\n",
        "Remember to maintain good coding practices and seek guidance or feedback from your instructor throughout the project. This capstone project will demonstrate your ability to apply deep learning techniques to real-world problems and showcase your skills to potential employers or collaborators.\n"
      ],
      "metadata": {
        "id": "95fiEQGS9r8T"
      }
    },
    {
      "cell_type": "markdown",
      "source": [],
      "metadata": {
        "id": "s731duTf9tvt"
      }
    }
  ]
}